{
 "cells": [
  {
   "cell_type": "markdown",
   "id": "b0a27fe2",
   "metadata": {},
   "source": [
    "# Part 2: CNN Classification\n",
    "\n",
    "## Introduction\n",
    "\n",
    "In this part, you'll implement a Convolutional Neural Network (CNN) for EMNIST character recognition. You can choose between TensorFlow/Keras or PyTorch for implementation. This will help you understand CNNs and their advantages for image classification tasks.\n",
    "\n",
    "## Learning Objectives\n",
    "\n",
    "- Implement a CNN using either TensorFlow/Keras or PyTorch\n",
    "- Apply convolutional layers, pooling, and batch normalization\n",
    "- Train and evaluate the model\n",
    "- Save model and metrics in the correct format\n",
    "\n",
    "## Setup and Installation"
   ]
  },
  {
   "cell_type": "code",
   "execution_count": 23,
   "id": "c067b529",
   "metadata": {},
   "outputs": [
    {
     "name": "stderr",
     "output_type": "stream",
     "text": [
      "/var/folders/91/318xx77d4wbb95s3dsdtsshc0000gq/T/ipykernel_92544/481518530.py:17: MatplotlibDeprecationWarning: The seaborn styles shipped by Matplotlib are deprecated since 3.6, as they no longer correspond to the styles shipped by seaborn. However, they will remain available as 'seaborn-v0_8-<style>'. Alternatively, directly use the seaborn API instead.\n",
      "  plt.style.use('seaborn')\n"
     ]
    }
   ],
   "source": [
    "# Install required packages\n",
    "# %pip install -r requirements.txt\n",
    "\n",
    "# Import necessary libraries\n",
    "import tensorflow as tf\n",
    "import tensorflow_datasets as tfds\n",
    "import numpy as np\n",
    "import matplotlib.pyplot as plt\n",
    "import seaborn as sns\n",
    "import os\n",
    "\n",
    "# Set random seeds for reproducibility\n",
    "tf.random.set_seed(42)\n",
    "np.random.seed(42)\n",
    "\n",
    "# Configure matplotlib for better visualization\n",
    "plt.style.use('seaborn')\n",
    "plt.rcParams['figure.figsize'] = (12, 8)\n",
    "plt.rcParams['font.size'] = 12\n",
    "\n",
    "# Create directories\n",
    "os.makedirs('models', exist_ok=True)\n",
    "os.makedirs('results/part_2', exist_ok=True)\n",
    "os.makedirs('logs', exist_ok=True)"
   ]
  },
  {
   "cell_type": "markdown",
   "id": "e47dfe2c",
   "metadata": {},
   "source": [
    "## 1. Data Loading and Preprocessing"
   ]
  },
  {
   "cell_type": "code",
   "execution_count": 24,
   "id": "beca3c7d",
   "metadata": {},
   "outputs": [
    {
     "name": "stdout",
     "output_type": "stream",
     "text": [
      "Training data shape: (88800, 28, 28, 1)\n",
      "Test data shape: (14800, 28, 28, 1)\n",
      "Number of classes: 26\n"
     ]
    },
    {
     "data": {
      "image/png": "[encoded data removed]",
      "text/plain": [
       "<Figure size 1500x500 with 5 Axes>"
      ]
     },
     "metadata": {},
     "output_type": "display_data"
    }
   ],
   "source": [
    "# Load EMNIST dataset\n",
    "ds_train, ds_test = tfds.load('emnist/letters', split=['train', 'test'], as_supervised=True, batch_size=-1)\n",
    "(x_train, y_train) = tfds.as_numpy(ds_train)\n",
    "(x_test, y_test) = tfds.as_numpy(ds_test)\n",
    "# Print dataset information\n",
    "print(f\"Training data shape: {x_train.shape}\")\n",
    "print(f\"Test data shape: {x_test.shape}\")\n",
    "print(f\"Number of classes: {len(np.unique(y_train))}\")\n",
    "\n",
    "# Plot sample images\n",
    "plt.figure(figsize=(15, 5))\n",
    "for i in range(5):\n",
    "    plt.subplot(1, 5, i + 1)\n",
    "    plt.imshow(np.squeeze(x_train[i]).T, cmap='gray')\n",
    "    plt.title(f'Label: {chr(y_train[i] + 64)}')\n",
    "    plt.axis('off')\n",
    "plt.show()"
   ]
  },
  {
   "cell_type": "code",
   "execution_count": 25,
   "id": "efeb0c43",
   "metadata": {},
   "outputs": [
    {
     "name": "stdout",
     "output_type": "stream",
     "text": [
      "Preprocessed training data shape: (71040, 28, 28, 1)\n",
      "Preprocessed validation data shape: (17760, 28, 28, 1)\n",
      "Preprocessed test data shape: (14800, 28, 28, 1)\n"
     ]
    }
   ],
   "source": [
    "# Preprocess data\n",
    "# Normalize pixel values\n",
    "x_train = x_train.astype('float32') / 255.0\n",
    "x_test = x_test.astype('float32') / 255.0\n",
    "\n",
    "# Reshape for CNN input (samples, height, width, channels)\n",
    "x_train = x_train.reshape(-1, 28, 28, 1)\n",
    "x_test = x_test.reshape(-1, 28, 28, 1)\n",
    "\n",
    "# Convert labels to one-hot encoding\n",
    "y_train = tf.keras.utils.to_categorical(y_train - 1, num_classes=26)\n",
    "y_test = tf.keras.utils.to_categorical(y_test - 1, num_classes=26)\n",
    "\n",
    "# Split training data into train and validation\n",
    "from sklearn.model_selection import train_test_split\n",
    "x_train, x_val, y_train, y_val = train_test_split(\n",
    "    x_train, y_train, test_size=0.2, random_state=42\n",
    ")\n",
    "\n",
    "print(f\"Preprocessed training data shape: {x_train.shape}\")\n",
    "print(f\"Preprocessed validation data shape: {x_val.shape}\")\n",
    "print(f\"Preprocessed test data shape: {x_test.shape}\")"
   ]
  },
  {
   "cell_type": "markdown",
   "id": "edba8e70",
   "metadata": {},
   "source": [
    "## 2. Model Implementation\n",
    "\n",
    "### TensorFlow/Keras Implementation"
   ]
  },
  {
   "cell_type": "code",
   "execution_count": 26,
   "id": "42531799",
   "metadata": {},
   "outputs": [],
   "source": [
    "# Create CNN using Keras\n",
    "def create_cnn_keras(input_shape, num_classes):\n",
    "    \"\"\"\n",
    "    Create a CNN using TensorFlow/Keras.\n",
    "    \n",
    "    Requirements:\n",
    "    - Must use at least 2 convolutional layers\n",
    "    - Must include pooling and batch normalization\n",
    "    - Must use categorical crossentropy loss\n",
    "    \n",
    "    Goals:\n",
    "    - Achieve > 85% accuracy on test set\n",
    "    - Minimize overfitting using batch normalization and dropout\n",
    "    - Train efficiently with appropriate batch size and learning rate\n",
    "    \n",
    "    Args:\n",
    "        input_shape: Shape of input data (should be (28, 28, 1) for grayscale images)\n",
    "        num_classes: Number of output classes (26 for letters)\n",
    "    \n",
    "    Returns:\n",
    "        Compiled Keras model\n",
    "    \"\"\"\n",
    "    model = tf.keras.Sequential([\n",
    "        tf.keras.layers.InputLayer(input_shape=input_shape),\n",
    "\n",
    "        # First convolutional block\n",
    "        tf.keras.layers.Conv2D(32, (3, 3), activation='relu', padding='same'),\n",
    "        tf.keras.layers.BatchNormalization(),\n",
    "        tf.keras.layers.MaxPooling2D(pool_size=(2, 2)),\n",
    "\n",
    "        # Second convolutional block\n",
    "        tf.keras.layers.Conv2D(64, (3, 3), activation='relu', padding='same'),\n",
    "        tf.keras.layers.BatchNormalization(),\n",
    "        tf.keras.layers.MaxPooling2D(pool_size=(2, 2)),\n",
    "\n",
    "        # Optional third conv layer (improves performance)\n",
    "        tf.keras.layers.Conv2D(128, (3, 3), activation='relu', padding='same'),\n",
    "        tf.keras.layers.BatchNormalization(),\n",
    "\n",
    "        # Flatten and dense layers\n",
    "        tf.keras.layers.Flatten(),\n",
    "        tf.keras.layers.Dense(128, activation='relu'),\n",
    "        tf.keras.layers.Dropout(0.5),\n",
    "        tf.keras.layers.Dense(num_classes, activation='softmax')\n",
    "    ])\n",
    "\n",
    "    model.compile(\n",
    "        optimizer=tf.keras.optimizers.Adam(learning_rate=0.001),\n",
    "        loss='categorical_crossentropy',\n",
    "        metrics=['accuracy']\n",
    "    )\n",
    "\n",
    "    return model"
   ]
  },
  {
   "cell_type": "markdown",
   "id": "87802fb5",
   "metadata": {},
   "source": [
    "### PyTorch Implementation"
   ]
  },
  {
   "cell_type": "code",
   "execution_count": 27,
   "id": "a1b24d0b",
   "metadata": {},
   "outputs": [
    {
     "name": "stdout",
     "output_type": "stream",
     "text": [
      "CNN(\n",
      "  (conv1): Conv2d(1, 32, kernel_size=(3, 3), stride=(1, 1), padding=(1, 1))\n",
      "  (bn1): BatchNorm2d(32, eps=1e-05, momentum=0.1, affine=True, track_running_stats=True)\n",
      "  (pool1): MaxPool2d(kernel_size=2, stride=2, padding=0, dilation=1, ceil_mode=False)\n",
      "  (conv2): Conv2d(32, 64, kernel_size=(3, 3), stride=(1, 1), padding=(1, 1))\n",
      "  (bn2): BatchNorm2d(64, eps=1e-05, momentum=0.1, affine=True, track_running_stats=True)\n",
      "  (pool2): MaxPool2d(kernel_size=2, stride=2, padding=0, dilation=1, ceil_mode=False)\n",
      "  (conv3): Conv2d(64, 128, kernel_size=(3, 3), stride=(1, 1), padding=(1, 1))\n",
      "  (bn3): BatchNorm2d(128, eps=1e-05, momentum=0.1, affine=True, track_running_stats=True)\n",
      "  (pool3): AdaptiveAvgPool2d(output_size=(4, 4))\n",
      "  (fc1): Linear(in_features=2048, out_features=128, bias=True)\n",
      "  (dropout): Dropout(p=0.5, inplace=False)\n",
      "  (fc2): Linear(in_features=128, out_features=26, bias=True)\n",
      ")\n"
     ]
    }
   ],
   "source": [
    "import torch\n",
    "import torch.nn as nn\n",
    "import torch.nn.functional as F\n",
    "\n",
    "class CNN(nn.Module):\n",
    "    def __init__(self, num_classes):\n",
    "        \"\"\"\n",
    "        Create a CNN using PyTorch.\n",
    "        \n",
    "        Requirements:\n",
    "        - Must use at least 2 convolutional layers\n",
    "        - Must include pooling and batch normalization\n",
    "        \n",
    "        Goals:\n",
    "        - Achieve > 85% accuracy on test set\n",
    "        - Minimize overfitting using batch normalization and dropout\n",
    "        - Train efficiently with appropriate batch size and learning rate\n",
    "        \n",
    "        Args:\n",
    "            num_classes: Number of output classes (26 for letters)\n",
    "        \"\"\"\n",
    "        super(CNN, self).__init__()\n",
    "\n",
    "        # First conv block\n",
    "        self.conv1 = nn.Conv2d(in_channels=1, out_channels=32, kernel_size=3, padding=1)\n",
    "        self.bn1 = nn.BatchNorm2d(32)\n",
    "        self.pool1 = nn.MaxPool2d(2, 2)  # Reduces size to 14x14\n",
    "\n",
    "        # Second conv block\n",
    "        self.conv2 = nn.Conv2d(32, 64, kernel_size=3, padding=1)\n",
    "        self.bn2 = nn.BatchNorm2d(64)\n",
    "        self.pool2 = nn.MaxPool2d(2, 2)  # Reduces size to 7x7\n",
    "\n",
    "        # Optional third conv block (improves performance)\n",
    "        self.conv3 = nn.Conv2d(64, 128, kernel_size=3, padding=1)\n",
    "        self.bn3 = nn.BatchNorm2d(128)\n",
    "        self.pool3 = nn.AdaptiveAvgPool2d((4, 4))  # Ensures fixed output size\n",
    "\n",
    "        # Fully connected layers\n",
    "        self.fc1 = nn.Linear(128 * 4 * 4, 128)\n",
    "        self.dropout = nn.Dropout(0.5)\n",
    "        self.fc2 = nn.Linear(128, num_classes)\n",
    "    \n",
    "    def forward(self, x):\n",
    "        \"\"\"\n",
    "        Forward pass of the network.\n",
    "        \n",
    "        Args:\n",
    "            x: Input tensor of shape (batch_size, channels, height, width)\n",
    "        \n",
    "        Returns:\n",
    "            Output tensor of shape (batch_size, num_classes)\n",
    "        \"\"\"\n",
    "        x = self.pool1(F.relu(self.bn1(self.conv1(x))))\n",
    "        x = self.pool2(F.relu(self.bn2(self.conv2(x))))\n",
    "        x = self.pool3(F.relu(self.bn3(self.conv3(x))))\n",
    "        x = x.view(x.size(0), -1)  # Flatten\n",
    "        x = F.relu(self.fc1(x))\n",
    "        x = self.dropout(x)\n",
    "        x = self.fc2(x)\n",
    "        return x\n",
    "\n",
    "# Create model\n",
    "model = CNN(num_classes=26)\n",
    "print(model)"
   ]
  },
  {
   "cell_type": "markdown",
   "id": "67ac0c9c",
   "metadata": {},
   "source": [
    "## 3. Training and Evaluation\n",
    "\n",
    "### TensorFlow/Keras Training"
   ]
  },
  {
   "cell_type": "code",
   "execution_count": 31,
   "id": "4ccc5404",
   "metadata": {},
   "outputs": [
    {
     "name": "stderr",
     "output_type": "stream",
     "text": [
      "WARNING:absl:At this time, the v2.11+ optimizer `tf.keras.optimizers.Adam` runs slowly on M1/M2 Macs, please use the legacy Keras optimizer instead, located at `tf.keras.optimizers.legacy.Adam`.\n"
     ]
    },
    {
     "name": "stdout",
     "output_type": "stream",
     "text": [
      "Epoch 1/20\n",
      "2220/2220 [==============================] - 41s 18ms/step - loss: 0.7713 - accuracy: 0.7694 - val_loss: 0.2715 - val_accuracy: 0.9114 - lr: 0.0010\n",
      "Epoch 2/20\n",
      "2220/2220 [==============================] - 41s 18ms/step - loss: 0.3912 - accuracy: 0.8777 - val_loss: 0.2698 - val_accuracy: 0.9159 - lr: 0.0010\n",
      "Epoch 3/20\n",
      "2220/2220 [==============================] - 42s 19ms/step - loss: 0.3144 - accuracy: 0.8991 - val_loss: 0.2105 - val_accuracy: 0.9262 - lr: 0.0010\n",
      "Epoch 4/20\n",
      "2220/2220 [==============================] - 40s 18ms/step - loss: 0.2736 - accuracy: 0.9127 - val_loss: 0.2000 - val_accuracy: 0.9354 - lr: 0.0010\n",
      "Epoch 5/20\n",
      "2220/2220 [==============================] - 39s 18ms/step - loss: 0.2454 - accuracy: 0.9195 - val_loss: 0.2015 - val_accuracy: 0.9381 - lr: 0.0010\n",
      "Epoch 6/20\n",
      "2220/2220 [==============================] - 40s 18ms/step - loss: 0.2180 - accuracy: 0.9280 - val_loss: 0.2063 - val_accuracy: 0.9365 - lr: 0.0010\n",
      "Epoch 7/20\n",
      "2220/2220 [==============================] - 40s 18ms/step - loss: 0.2035 - accuracy: 0.9315 - val_loss: 0.1962 - val_accuracy: 0.9385 - lr: 0.0010\n",
      "Epoch 8/20\n",
      "2220/2220 [==============================] - 40s 18ms/step - loss: 0.1819 - accuracy: 0.9377 - val_loss: 0.1920 - val_accuracy: 0.9404 - lr: 0.0010\n",
      "Epoch 9/20\n",
      "2220/2220 [==============================] - 39s 18ms/step - loss: 0.1715 - accuracy: 0.9401 - val_loss: 0.2038 - val_accuracy: 0.9428 - lr: 0.0010\n",
      "Epoch 10/20\n",
      "2220/2220 [==============================] - 41s 18ms/step - loss: 0.1628 - accuracy: 0.9430 - val_loss: 0.2266 - val_accuracy: 0.9410 - lr: 0.0010\n",
      "Epoch 11/20\n",
      "2220/2220 [==============================] - 43s 19ms/step - loss: 0.1497 - accuracy: 0.9466 - val_loss: 0.2145 - val_accuracy: 0.9377 - lr: 0.0010\n",
      "Epoch 12/20\n",
      "2220/2220 [==============================] - 42s 19ms/step - loss: 0.1101 - accuracy: 0.9580 - val_loss: 0.1964 - val_accuracy: 0.9470 - lr: 2.0000e-04\n",
      "Epoch 13/20\n",
      "2220/2220 [==============================] - 41s 18ms/step - loss: 0.0956 - accuracy: 0.9623 - val_loss: 0.2002 - val_accuracy: 0.9474 - lr: 2.0000e-04\n"
     ]
    },
    {
     "data": {
      "image/png": "[encoded data removed]",
      "text/plain": [
       "<Figure size 1500x500 with 2 Axes>"
      ]
     },
     "metadata": {},
     "output_type": "display_data"
    }
   ],
   "source": [
    "# Define callbacks\n",
    "callbacks = [\n",
    "    tf.keras.callbacks.EarlyStopping(\n",
    "        monitor='val_loss',\n",
    "        patience=5,\n",
    "        restore_best_weights=True\n",
    "    ),\n",
    "    tf.keras.callbacks.ReduceLROnPlateau(\n",
    "        monitor='val_loss',\n",
    "        factor=0.2,\n",
    "        patience=3\n",
    "    ),\n",
    "    tf.keras.callbacks.ModelCheckpoint(\n",
    "        'models/cnn_keras.keras',\n",
    "        save_best_only=True\n",
    "    )\n",
    "]\n",
    "model = create_cnn_keras(input_shape=(28, 28, 1), num_classes=26)\n",
    "\n",
    "# Train model\n",
    "history_obj = model.fit(\n",
    "    x_train, y_train,\n",
    "    validation_data=(x_val, y_val),\n",
    "    epochs=20,\n",
    "    batch_size=32,\n",
    "    callbacks=callbacks\n",
    ")\n",
    "\n",
    "\n",
    "# Plot training curves\n",
    "fig, (ax1, ax2) = plt.subplots(1, 2, figsize=(15, 5))\n",
    "\n",
    "# Plot accuracy\n",
    "ax1.plot(history.history['accuracy'], label='Training')\n",
    "ax1.plot(history.history['val_accuracy'], label='Validation')\n",
    "ax1.set_title('Model Accuracy')\n",
    "ax1.set_xlabel('Epoch')\n",
    "ax1.set_ylabel('Accuracy')\n",
    "ax1.legend()\n",
    "\n",
    "# Plot loss\n",
    "ax2.plot(history.history['loss'], label='Training')\n",
    "ax2.plot(history.history['val_loss'], label='Validation')\n",
    "ax2.set_title('Model Loss')\n",
    "ax2.set_xlabel('Epoch')\n",
    "ax2.set_ylabel('Loss')\n",
    "ax2.legend()\n",
    "\n",
    "plt.tight_layout()\n",
    "plt.show()"
   ]
  },
  {
   "cell_type": "code",
   "execution_count": 33,
   "id": "e410308f",
   "metadata": {},
   "outputs": [
    {
     "name": "stdout",
     "output_type": "stream",
     "text": [
      "Final Training Accuracy: 0.9623\n",
      "\n",
      "Final Validation Accuracy: 0.9474\n",
      "\n",
      "Final Training Loss: 0.0956\n",
      "\n",
      "Final Validation Loss: 0.2002\n",
      "\n"
     ]
    }
   ],
   "source": [
    "with open(\"results/part_2/cnn_keras_metrics.txt\", \"w\") as f:\n",
    "    f.write(\"Model Evaluation Metrics:\\n\")\n",
    "    f.write(f\"Final Training Accuracy: {history_obj.history['accuracy'][-1]:.4f}\\n\")\n",
    "    f.write(f\"Final Validation Accuracy: {history_obj.history['val_accuracy'][-1]:.4f}\\n\")\n",
    "    f.write(f\"Final Training Loss: {history_obj.history['loss'][-1]:.4f}\\n\")\n",
    "    f.write(f\"Final Validation Loss: {history_obj.history['val_loss'][-1]:.4f}\\n\")\n",
    "\n",
    "print(f\"Final Training Accuracy: {history_obj.history['accuracy'][-1]:.4f}\\n\")\n",
    "print(f\"Final Validation Accuracy: {history_obj.history['val_accuracy'][-1]:.4f}\\n\")\n",
    "print(f\"Final Training Loss: {history_obj.history['loss'][-1]:.4f}\\n\")\n",
    "print(f\"Final Validation Loss: {history_obj.history['val_loss'][-1]:.4f}\\n\")"
   ]
  },
  {
   "cell_type": "markdown",
   "id": "cdfaafd3",
   "metadata": {},
   "source": [
    "### PyTorch Training"
   ]
  },
  {
   "cell_type": "markdown",
   "id": "3387a395",
   "metadata": {},
   "source": [
    "## Progress Checkpoints\n",
    "\n",
    "1. **Data Loading**:\n",
    "   - [ ] Successfully load EMNIST dataset\n",
    "   - [ ] Verify data shapes and ranges\n",
    "   - [ ] Visualize sample images\n",
    "\n",
    "2. **Preprocessing**:\n",
    "   - [ ] Normalize pixel values\n",
    "   - [ ] Reshape data for CNN input\n",
    "   - [ ] Convert labels to one-hot encoding\n",
    "\n",
    "3. **Model Implementation**:\n",
    "   - [ ] Create CNN with required layers\n",
    "   - [ ] Verify architecture requirements\n",
    "   - [ ] Test model with sample input\n",
    "\n",
    "4. **Training**:\n",
    "   - [ ] Train model with callbacks\n",
    "   - [ ] Monitor training progress\n",
    "   - [ ] Save best model\n",
    "\n",
    "5. **Evaluation**:\n",
    "   - [ ] Calculate performance metrics\n",
    "   - [ ] Save metrics in correct format\n",
    "   - [ ] Visualize results\n",
    "\n",
    "## Common Issues and Solutions\n",
    "\n",
    "1. **Data Loading Issues**:\n",
    "   - Problem: EMNIST dataset not found\n",
    "   - Solution: Check internet connection and TensorFlow installation\n",
    "\n",
    "2. **Preprocessing Issues**:\n",
    "   - Problem: Shape mismatch in CNN layers\n",
    "   - Solution: Ensure data is properly shaped (samples, height, width, channels)\n",
    "   - Problem: Label encoding errors\n",
    "   - Solution: Verify label range and one-hot encoding\n",
    "\n",
    "3. **Model Issues**:\n",
    "   - Problem: Training instability\n",
    "   - Solution: Add batch normalization, reduce learning rate\n",
    "   - Problem: Overfitting\n",
    "   - Solution: Increase dropout, use data augmentation\n",
    "\n",
    "4. **Evaluation Issues**:\n",
    "   - Problem: Metrics format incorrect\n",
    "   - Solution: Follow the exact format specified\n",
    "   - Problem: Performance below threshold\n",
    "   - Solution: Adjust architecture, hyperparameters"
   ]
  }
 ],
 "metadata": {
  "jupytext": {
   "cell_metadata_filter": "-all",
   "main_language": "python",
   "notebook_metadata_filter": "-all"
  },
  "kernelspec": {
   "display_name": "base",
   "language": "python",
   "name": "python3"
  },
  "language_info": {
   "codemirror_mode": {
    "name": "ipython",
    "version": 3
   },
   "file_extension": ".py",
   "mimetype": "text/x-python",
   "name": "python",
   "nbconvert_exporter": "python",
   "pygments_lexer": "ipython3",
   "version": "3.10.9"
  }
 },
 "nbformat": 4,
 "nbformat_minor": 5
}
